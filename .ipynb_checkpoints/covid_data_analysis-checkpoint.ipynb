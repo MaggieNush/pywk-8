{
 "cells": [
  {
   "cell_type": "code",
   "execution_count": null,
   "id": "3649b0c1",
   "metadata": {},
   "outputs": [],
   "source": [
    "import pandas as pd\n",
    "\n",
    "# Load dataset\n",
    "try:\n",
    "    df = pd.read_csv('owid-covid-data.csv')\n",
    "    print(\"✅ Dataset loaded successfully!\")\n",
    "except FileNotFoundError:\n",
    "    print(\"❌ Dataset file not found. Please check the file path.\")\n",
    "\n",
    "# Preview\n",
    "df.head()\n",
    "df.info()\n",
    "df.isnull().sum()\n"
   ]
  },
  {
   "cell_type": "code",
   "execution_count": null,
   "id": "9685fd71",
   "metadata": {},
   "outputs": [],
   "source": []
  }
 ],
 "metadata": {
  "language_info": {
   "name": "python"
  }
 },
 "nbformat": 4,
 "nbformat_minor": 5
}
